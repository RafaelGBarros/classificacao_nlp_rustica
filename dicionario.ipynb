{
 "cells": [
  {
   "cell_type": "code",
   "execution_count": 23,
   "id": "50cfd877",
   "metadata": {},
   "outputs": [],
   "source": [
    "##!pip uninstall spacy\n",
    "##!pip install spacy==3.5.3\n",
    "##!python -m spacy download pt_core_news_sm\n",
    "from collections import Counter\n",
    "from collections import defaultdict\n",
    "import pandas as pd\n",
    "import unicodedata\n",
    "import spacy\n",
    "from collections import defaultdict"
   ]
  },
  {
   "cell_type": "code",
   "execution_count": 11,
   "id": "bb5583a2",
   "metadata": {},
   "outputs": [],
   "source": [
    "nlp = spacy.load(\"pt_core_news_sm\")\n",
    "\n",
    "def lematizar(texto):\n",
    "    doc = nlp(texto)\n",
    "    return ''.join(token.lemma_ for token in doc)\n",
    "\n",
    "def remover_acentos(texto):\n",
    "    return ''.join(\n",
    "        c for c in unicodedata.normalize('NFD', texto)\n",
    "        if unicodedata.category(c) != 'Mn'\n",
    "    )\n",
    "\n",
    "def temEspaco(texto):\n",
    "    return ' ' in texto"
   ]
  },
  {
   "cell_type": "code",
   "execution_count": 29,
   "id": "02d090e1",
   "metadata": {},
   "outputs": [],
   "source": [
    "df = pd.read_excel('rawdata.xlsx', sheet_name='frases_categorias')\n",
    "\n",
    "# Lista de palavras genéricas\n",
    "palavras_genericas = ['perfume', 'fragrancia', 'cheirar', 'cheiroso', 'cheirando', 'cheiro', 'em o', 'de o', 'gostar', 'deixar','roupa','ficar','muito']\n",
    "palavras_genericas.append('porque')\n",
    "# Armazenar dados finais\n",
    "dados_finais = []\n",
    "\n",
    "# Processar por categoria\n",
    "categorias = df['categoria'].unique()\n",
    "for categoria in categorias:\n",
    "    filtrado = df[df['categoria'] == categoria]\n",
    "    todas_palavras = []\n",
    "\n",
    "    for frase in filtrado['frase']:\n",
    "        bruto_palavras = frase.split()\n",
    "        for palavra in bruto_palavras:\n",
    "            palavra_proc = lematizar(remover_acentos(palavra.lower()))\n",
    "            if len(palavra_proc) > 3 and palavra_proc not in palavras_genericas and not temEspaco(palavra_proc):\n",
    "                todas_palavras.append(palavra_proc)\n",
    "\n",
    "    contagem = Counter(todas_palavras)\n",
    "    top_10 = contagem.most_common(10)\n",
    "\n",
    "    for palavra, freq in top_10:\n",
    "        dados_finais.append({'categoria': categoria, 'palavra': palavra, 'quantasvezes_aparece': freq})\n",
    "\n",
    "\n",
    "df_resultado = pd.DataFrame(dados_finais)\n",
    "df_resultado.to_csv('resultado.csv', index=False, encoding='utf-8-sig')\n"
   ]
  },
  {
   "cell_type": "code",
   "execution_count": null,
   "id": "bcea3d1e",
   "metadata": {},
   "outputs": [],
   "source": [
    "def classificar_frase(frase, df_resultado):\n",
    "    # Pré-processamento da frase\n",
    "    palavras_frase = frase.split()\n",
    "    palavras_processadas = [\n",
    "        lematizar(remover_acentos(p.lower()))\n",
    "        for p in palavras_frase\n",
    "        if len(p) > 3 and not temEspaco(p)\n",
    "    ]\n",
    "\n",
    "    # Agrupar palavras relevantes com seus pesos por categoria\n",
    "    categorias_palavras_peso = defaultdict(dict)\n",
    "    for _, row in df_resultado.iterrows():\n",
    "        palavra = row['palavra']\n",
    "        categoria = row['categoria']\n",
    "        peso = row['quantasvezes_aparece']\n",
    "        categorias_palavras_peso[categoria][palavra] = peso\n",
    "\n",
    "    # Contar matches ponderados por categoria\n",
    "    contagem_ponderada = {}\n",
    "    for categoria, palavras_pesos in categorias_palavras_peso.items():\n",
    "        peso_total = sum(\n",
    "            palavras_pesos.get(p, 0) for p in palavras_processadas\n",
    "        )\n",
    "        contagem_ponderada[categoria] = peso_total\n",
    "\n",
    "    # Ordenar categorias por peso total decrescente e pegar as top 3\n",
    "    top_categorias = sorted(\n",
    "        contagem_ponderada.items(),\n",
    "        key=lambda x: x[1],\n",
    "        reverse=True\n",
    "    )[:3]\n",
    "\n",
    "    return top_categorias"
   ]
  },
  {
   "cell_type": "code",
   "execution_count": 37,
   "id": "ea9c647b",
   "metadata": {},
   "outputs": [
    {
     "name": "stdout",
     "output_type": "stream",
     "text": [
      "[('No dislikes', 12), ('Perfume Characteristic', 0), ('Pleasant perfume', 0)]\n"
     ]
    }
   ],
   "source": [
    "print(classificar_frase('gosteri de tudo', df_resultado))\n"
   ]
  },
  {
   "cell_type": "code",
   "execution_count": null,
   "id": "e960a5d6",
   "metadata": {},
   "outputs": [],
   "source": [
    "## Exemplo de Uso da SpaCy para Lematização\n",
    "\n",
    "texto = \"Fizemos muitas casinhas coloridas\"\n",
    "doc = nlp(texto)\n",
    "\n",
    "for token in doc:\n",
    "    print(f\"Token: {token.text} | Lema: {token.lemma_} | POS: {token.pos_}\")"
   ]
  }
 ],
 "metadata": {
  "kernelspec": {
   "display_name": "base",
   "language": "python",
   "name": "python3"
  },
  "language_info": {
   "codemirror_mode": {
    "name": "ipython",
    "version": 3
   },
   "file_extension": ".py",
   "mimetype": "text/x-python",
   "name": "python",
   "nbconvert_exporter": "python",
   "pygments_lexer": "ipython3",
   "version": "3.12.4"
  }
 },
 "nbformat": 4,
 "nbformat_minor": 5
}
